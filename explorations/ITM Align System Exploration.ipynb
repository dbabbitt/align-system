{
 "cells": [
  {
   "cell_type": "code",
   "execution_count": 1,
   "id": "ce9ae8b9-c1f6-4a58-9c9d-74647fa9c311",
   "metadata": {},
   "outputs": [
    {
     "name": "stdout",
     "output_type": "stream",
     "text": [
      "Pretty printing has been turned OFF\n"
     ]
    }
   ],
   "source": [
    "\n",
    "%pprint"
   ]
  },
  {
   "cell_type": "code",
   "execution_count": 2,
   "id": "61ce2470-186f-48b6-88e4-86f5cc5828e5",
   "metadata": {},
   "outputs": [],
   "source": [
    "\n",
    "from importlib.util import find_spec\n",
    "import sys\n",
    "\n",
    "if find_spec('itm') is None:\n",
    "    sys.path.insert(1, '../../itm-mvp/itm_client')"
   ]
  },
  {
   "cell_type": "code",
   "execution_count": null,
   "id": "133661e9-6136-4f19-9fe0-1a59f4276173",
   "metadata": {},
   "outputs": [
    {
     "name": "stdin",
     "output_type": "stream",
     "text": [
      "Enter a Command from the following options ['start (s)', 'probe (p)', 'status (u)', 'vitals (v)', 'respond (r)', 'heart (h)', 'tag (t)', 'end (e)']:  s\n"
     ]
    },
    {
     "name": "stdout",
     "output_type": "stream",
     "text": [
      "{'description': 'Bomb Explosion',\n",
      " 'environment': {'location': 'city',\n",
      "                 'noise_ambient': 0.5,\n",
      "                 'noise_peak': 0.5,\n",
      "                 'threat_level': 0.5,\n",
      "                 'visibility': 0.5,\n",
      "                 'weather': 'cloudy'},\n",
      " 'id': 'scenario_7fdd7f43-7d91-465e-b4a8-1952fc5899b8',\n",
      " 'medical_supplies': [{'description': 'used for wound dressing and absorbing '\n",
      "                                      'blood',\n",
      "                       'name': 'gauze',\n",
      "                       'quantity': 10},\n",
      "                      {'description': 'used to control severe bleeding by '\n",
      "                                      'constricting blood flow',\n",
      "                       'name': 'tourniquet',\n",
      "                       'quantity': 5}],\n",
      " 'name': 'Test Scenario',\n",
      " 'patients': [{'age': 23,\n",
      "               'assessed': False,\n",
      "               'id': 'patient_c806d397-e01d-4b95-a0ea-d225344e771d',\n",
      "               'injuries': [{'location': 'head', 'name': 'trauma'},\n",
      "                            {'location': 'chest', 'name': 'burn'},\n",
      "                            {'location': 'left leg', 'name': 'laceration'}],\n",
      "               'mental_status': 'unresponsive',\n",
      "               'name': 'John Smith',\n",
      "               'sex': 'male',\n",
      "               'tag': 'none',\n",
      "               'vitals': {'blood_pressure': '0/0',\n",
      "                          'heart_rate': 0,\n",
      "                          'oxygen_level': 0,\n",
      "                          'respiratory_rate': 0}},\n",
      "              {'age': 45,\n",
      "               'assessed': False,\n",
      "               'id': 'patient_2c4eff04-1d35-4dfa-afbc-f59abaf22d7d',\n",
      "               'injuries': [{'location': 'right hand', 'name': 'burn'}],\n",
      "               'mental_status': 'calm',\n",
      "               'name': 'Sara Jones',\n",
      "               'sex': 'female',\n",
      "               'tag': 'none',\n",
      "               'vitals': {'blood_pressure': '120/80',\n",
      "                          'heart_rate': 30,\n",
      "                          'oxygen_level': 60,\n",
      "                          'respiratory_rate': 20}}],\n",
      " 'start_time': '2023-06-20 15:58:34.122370',\n",
      " 'triage_categories': []}\n"
     ]
    }
   ],
   "source": [
    "\n",
    "from itm import ITMHumanScenarioRunner\n",
    "\n",
    "runner = ITMHumanScenarioRunner(save_to_db='', scene_type='_random_')\n",
    "runner.username = 'Dave Babbitt'\n",
    "runner.run()"
   ]
  },
  {
   "cell_type": "code",
   "execution_count": 4,
   "id": "0c529eee-07cd-4b37-9f10-dd81e36bb59e",
   "metadata": {},
   "outputs": [
    {
     "name": "stdout",
     "output_type": "stream",
     "text": [
      "START: start (s) ['start', 's']\n",
      "PROBE: probe (p) ['probe', 'p']\n",
      "STATUS: status (u) ['status', 'u']\n",
      "VITALS: vitals (v) ['vitals', 'v']\n",
      "RESPOND: respond (r) ['respond', 'r']\n",
      "HEART_RATE: heart (h) ['heart', 'h']\n",
      "TAG: tag (t) ['tag', 't']\n",
      "END: end (e) ['end', 'e']\n"
     ]
    }
   ],
   "source": [
    "\n",
    "from itm.itm_human_scenario_runner import CommandOption\n",
    "\n",
    "for member in CommandOption:\n",
    "    print(eval(f'{member}.name'), eval(f'{member}.value'), sep=': ', end=' ')\n",
    "    print(runner.get_full_string_and_shortcut(member))"
   ]
  },
  {
   "cell_type": "code",
   "execution_count": null,
   "id": "1054a97c-3de9-44ab-acee-c81703f213ae",
   "metadata": {},
   "outputs": [],
   "source": []
  }
 ],
 "metadata": {
  "kernelspec": {
   "display_name": "Notebooks (Python 3.9.16)",
   "language": "python",
   "name": "nb_env"
  },
  "language_info": {
   "codemirror_mode": {
    "name": "ipython",
    "version": 3
   },
   "file_extension": ".py",
   "mimetype": "text/x-python",
   "name": "python",
   "nbconvert_exporter": "python",
   "pygments_lexer": "ipython3",
   "version": "3.9.16"
  }
 },
 "nbformat": 4,
 "nbformat_minor": 5
}
